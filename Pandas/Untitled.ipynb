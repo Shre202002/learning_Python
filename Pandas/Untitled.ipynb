{
 "cells": [
  {
   "cell_type": "code",
   "execution_count": 1,
   "id": "1197d0ec-fb26-4428-9fa0-30063299f057",
   "metadata": {},
   "outputs": [],
   "source": [
    "import numpy as np\n",
    "import pandas as pd"
   ]
  },
  {
   "cell_type": "code",
   "execution_count": 2,
   "id": "5ceb1c9b-efa8-440b-8947-b7ab6e2c9286",
   "metadata": {},
   "outputs": [],
   "source": [
    "dict1 = {\n",
    "    \"Name\": ['Shre','Sriansh', 'Raj','Shivam'],\n",
    "    \"Marks\": [23,43,54,55],\n",
    "    \"City\": ['Kanpur', 'Mirzapur', 'Delh', 'Juhi']\n",
    "}"
   ]
  },
  {
   "cell_type": "code",
   "execution_count": 3,
   "id": "e7a9ecd9-b8a3-4feb-b1e3-f7e76200d285",
   "metadata": {},
   "outputs": [],
   "source": [
    "df =  pd.DataFrame(dict1)"
   ]
  },
  {
   "cell_type": "code",
   "execution_count": 4,
   "id": "3788ab5b-9d1e-435b-ac3f-d7c7eb3a4a8b",
   "metadata": {},
   "outputs": [
    {
     "data": {
      "text/html": [
       "<div>\n",
       "<style scoped>\n",
       "    .dataframe tbody tr th:only-of-type {\n",
       "        vertical-align: middle;\n",
       "    }\n",
       "\n",
       "    .dataframe tbody tr th {\n",
       "        vertical-align: top;\n",
       "    }\n",
       "\n",
       "    .dataframe thead th {\n",
       "        text-align: right;\n",
       "    }\n",
       "</style>\n",
       "<table border=\"1\" class=\"dataframe\">\n",
       "  <thead>\n",
       "    <tr style=\"text-align: right;\">\n",
       "      <th></th>\n",
       "      <th>Name</th>\n",
       "      <th>Marks</th>\n",
       "      <th>City</th>\n",
       "    </tr>\n",
       "  </thead>\n",
       "  <tbody>\n",
       "    <tr>\n",
       "      <th>0</th>\n",
       "      <td>Shre</td>\n",
       "      <td>23</td>\n",
       "      <td>Kanpur</td>\n",
       "    </tr>\n",
       "    <tr>\n",
       "      <th>1</th>\n",
       "      <td>Sriansh</td>\n",
       "      <td>43</td>\n",
       "      <td>Mirzapur</td>\n",
       "    </tr>\n",
       "    <tr>\n",
       "      <th>2</th>\n",
       "      <td>Raj</td>\n",
       "      <td>54</td>\n",
       "      <td>Delh</td>\n",
       "    </tr>\n",
       "    <tr>\n",
       "      <th>3</th>\n",
       "      <td>Shivam</td>\n",
       "      <td>55</td>\n",
       "      <td>Juhi</td>\n",
       "    </tr>\n",
       "  </tbody>\n",
       "</table>\n",
       "</div>"
      ],
      "text/plain": [
       "      Name  Marks      City\n",
       "0     Shre     23    Kanpur\n",
       "1  Sriansh     43  Mirzapur\n",
       "2      Raj     54      Delh\n",
       "3   Shivam     55      Juhi"
      ]
     },
     "execution_count": 4,
     "metadata": {},
     "output_type": "execute_result"
    }
   ],
   "source": [
    "df"
   ]
  },
  {
   "cell_type": "code",
   "execution_count": 5,
   "id": "dc673585-a60c-4672-ac90-54e3b09bdd4b",
   "metadata": {},
   "outputs": [],
   "source": [
    "df.to_csv('Friends_data.csv')"
   ]
  },
  {
   "cell_type": "code",
   "execution_count": 6,
   "id": "535ca101-173a-4908-86b1-4dea1061d281",
   "metadata": {},
   "outputs": [],
   "source": [
    "df.to_csv('Friends_data_No_index.csv', index=False)"
   ]
  },
  {
   "cell_type": "code",
   "execution_count": 7,
   "id": "aadf0824-94c7-4c75-8278-c74d6ea99b33",
   "metadata": {},
   "outputs": [
    {
     "data": {
      "text/html": [
       "<div>\n",
       "<style scoped>\n",
       "    .dataframe tbody tr th:only-of-type {\n",
       "        vertical-align: middle;\n",
       "    }\n",
       "\n",
       "    .dataframe tbody tr th {\n",
       "        vertical-align: top;\n",
       "    }\n",
       "\n",
       "    .dataframe thead th {\n",
       "        text-align: right;\n",
       "    }\n",
       "</style>\n",
       "<table border=\"1\" class=\"dataframe\">\n",
       "  <thead>\n",
       "    <tr style=\"text-align: right;\">\n",
       "      <th></th>\n",
       "      <th>Name</th>\n",
       "      <th>Marks</th>\n",
       "      <th>City</th>\n",
       "    </tr>\n",
       "  </thead>\n",
       "  <tbody>\n",
       "    <tr>\n",
       "      <th>0</th>\n",
       "      <td>Shre</td>\n",
       "      <td>23</td>\n",
       "      <td>Kanpur</td>\n",
       "    </tr>\n",
       "    <tr>\n",
       "      <th>1</th>\n",
       "      <td>Sriansh</td>\n",
       "      <td>43</td>\n",
       "      <td>Mirzapur</td>\n",
       "    </tr>\n",
       "  </tbody>\n",
       "</table>\n",
       "</div>"
      ],
      "text/plain": [
       "      Name  Marks      City\n",
       "0     Shre     23    Kanpur\n",
       "1  Sriansh     43  Mirzapur"
      ]
     },
     "execution_count": 7,
     "metadata": {},
     "output_type": "execute_result"
    }
   ],
   "source": [
    "df.head(2)"
   ]
  },
  {
   "cell_type": "code",
   "execution_count": 8,
   "id": "b1c283fc-32fe-4d9b-b322-9663db098e82",
   "metadata": {},
   "outputs": [
    {
     "data": {
      "text/html": [
       "<div>\n",
       "<style scoped>\n",
       "    .dataframe tbody tr th:only-of-type {\n",
       "        vertical-align: middle;\n",
       "    }\n",
       "\n",
       "    .dataframe tbody tr th {\n",
       "        vertical-align: top;\n",
       "    }\n",
       "\n",
       "    .dataframe thead th {\n",
       "        text-align: right;\n",
       "    }\n",
       "</style>\n",
       "<table border=\"1\" class=\"dataframe\">\n",
       "  <thead>\n",
       "    <tr style=\"text-align: right;\">\n",
       "      <th></th>\n",
       "      <th>Name</th>\n",
       "      <th>Marks</th>\n",
       "      <th>City</th>\n",
       "    </tr>\n",
       "  </thead>\n",
       "  <tbody>\n",
       "    <tr>\n",
       "      <th>2</th>\n",
       "      <td>Raj</td>\n",
       "      <td>54</td>\n",
       "      <td>Delh</td>\n",
       "    </tr>\n",
       "    <tr>\n",
       "      <th>3</th>\n",
       "      <td>Shivam</td>\n",
       "      <td>55</td>\n",
       "      <td>Juhi</td>\n",
       "    </tr>\n",
       "  </tbody>\n",
       "</table>\n",
       "</div>"
      ],
      "text/plain": [
       "     Name  Marks  City\n",
       "2     Raj     54  Delh\n",
       "3  Shivam     55  Juhi"
      ]
     },
     "execution_count": 8,
     "metadata": {},
     "output_type": "execute_result"
    }
   ],
   "source": [
    "df.tail(2)"
   ]
  },
  {
   "cell_type": "code",
   "execution_count": 9,
   "id": "11f42cae-2f6a-458b-b576-e368f1dc00d3",
   "metadata": {},
   "outputs": [
    {
     "data": {
      "text/html": [
       "<div>\n",
       "<style scoped>\n",
       "    .dataframe tbody tr th:only-of-type {\n",
       "        vertical-align: middle;\n",
       "    }\n",
       "\n",
       "    .dataframe tbody tr th {\n",
       "        vertical-align: top;\n",
       "    }\n",
       "\n",
       "    .dataframe thead th {\n",
       "        text-align: right;\n",
       "    }\n",
       "</style>\n",
       "<table border=\"1\" class=\"dataframe\">\n",
       "  <thead>\n",
       "    <tr style=\"text-align: right;\">\n",
       "      <th></th>\n",
       "      <th>Marks</th>\n",
       "    </tr>\n",
       "  </thead>\n",
       "  <tbody>\n",
       "    <tr>\n",
       "      <th>count</th>\n",
       "      <td>4.000000</td>\n",
       "    </tr>\n",
       "    <tr>\n",
       "      <th>mean</th>\n",
       "      <td>43.750000</td>\n",
       "    </tr>\n",
       "    <tr>\n",
       "      <th>std</th>\n",
       "      <td>14.863266</td>\n",
       "    </tr>\n",
       "    <tr>\n",
       "      <th>min</th>\n",
       "      <td>23.000000</td>\n",
       "    </tr>\n",
       "    <tr>\n",
       "      <th>25%</th>\n",
       "      <td>38.000000</td>\n",
       "    </tr>\n",
       "    <tr>\n",
       "      <th>50%</th>\n",
       "      <td>48.500000</td>\n",
       "    </tr>\n",
       "    <tr>\n",
       "      <th>75%</th>\n",
       "      <td>54.250000</td>\n",
       "    </tr>\n",
       "    <tr>\n",
       "      <th>max</th>\n",
       "      <td>55.000000</td>\n",
       "    </tr>\n",
       "  </tbody>\n",
       "</table>\n",
       "</div>"
      ],
      "text/plain": [
       "           Marks\n",
       "count   4.000000\n",
       "mean   43.750000\n",
       "std    14.863266\n",
       "min    23.000000\n",
       "25%    38.000000\n",
       "50%    48.500000\n",
       "75%    54.250000\n",
       "max    55.000000"
      ]
     },
     "execution_count": 9,
     "metadata": {},
     "output_type": "execute_result"
    }
   ],
   "source": [
    "df.describe()"
   ]
  },
  {
   "cell_type": "code",
   "execution_count": 10,
   "id": "828a7407-ee05-4f94-bebd-a8a4dab9226d",
   "metadata": {},
   "outputs": [],
   "source": [
    "train_Data = pd.read_csv('Tarin_Data.csv')"
   ]
  },
  {
   "cell_type": "code",
   "execution_count": 11,
   "id": "13e15c25-9a3e-4047-8bf0-32812aca9b49",
   "metadata": {},
   "outputs": [
    {
     "data": {
      "text/html": [
       "<div>\n",
       "<style scoped>\n",
       "    .dataframe tbody tr th:only-of-type {\n",
       "        vertical-align: middle;\n",
       "    }\n",
       "\n",
       "    .dataframe tbody tr th {\n",
       "        vertical-align: top;\n",
       "    }\n",
       "\n",
       "    .dataframe thead th {\n",
       "        text-align: right;\n",
       "    }\n",
       "</style>\n",
       "<table border=\"1\" class=\"dataframe\">\n",
       "  <thead>\n",
       "    <tr style=\"text-align: right;\">\n",
       "      <th></th>\n",
       "      <th>Train_Number</th>\n",
       "      <th>Speed</th>\n",
       "      <th>City</th>\n",
       "    </tr>\n",
       "  </thead>\n",
       "  <tbody>\n",
       "    <tr>\n",
       "      <th>0</th>\n",
       "      <td>12598</td>\n",
       "      <td>452</td>\n",
       "      <td>Kanpur</td>\n",
       "    </tr>\n",
       "    <tr>\n",
       "      <th>1</th>\n",
       "      <td>4520</td>\n",
       "      <td>652</td>\n",
       "      <td>Mirzapur</td>\n",
       "    </tr>\n",
       "    <tr>\n",
       "      <th>2</th>\n",
       "      <td>8752</td>\n",
       "      <td>320</td>\n",
       "      <td>Delh</td>\n",
       "    </tr>\n",
       "    <tr>\n",
       "      <th>3</th>\n",
       "      <td>9850</td>\n",
       "      <td>65</td>\n",
       "      <td>Juhi</td>\n",
       "    </tr>\n",
       "  </tbody>\n",
       "</table>\n",
       "</div>"
      ],
      "text/plain": [
       "   Train_Number  Speed      City\n",
       "0         12598    452    Kanpur\n",
       "1          4520    652  Mirzapur\n",
       "2          8752    320      Delh\n",
       "3          9850     65      Juhi"
      ]
     },
     "execution_count": 11,
     "metadata": {},
     "output_type": "execute_result"
    }
   ],
   "source": [
    "train_Data"
   ]
  },
  {
   "cell_type": "code",
   "execution_count": 12,
   "id": "f1b2de7c-f1a7-4f1c-aaf5-5d557398fd3c",
   "metadata": {},
   "outputs": [],
   "source": [
    "tarin_data = pd.read_csv('Tarin_Data.csv')"
   ]
  },
  {
   "cell_type": "code",
   "execution_count": 13,
   "id": "331b6e3c-b67e-45f5-b5fd-cee00307a3a4",
   "metadata": {},
   "outputs": [
    {
     "data": {
      "text/html": [
       "<div>\n",
       "<style scoped>\n",
       "    .dataframe tbody tr th:only-of-type {\n",
       "        vertical-align: middle;\n",
       "    }\n",
       "\n",
       "    .dataframe tbody tr th {\n",
       "        vertical-align: top;\n",
       "    }\n",
       "\n",
       "    .dataframe thead th {\n",
       "        text-align: right;\n",
       "    }\n",
       "</style>\n",
       "<table border=\"1\" class=\"dataframe\">\n",
       "  <thead>\n",
       "    <tr style=\"text-align: right;\">\n",
       "      <th></th>\n",
       "      <th>Train_Number</th>\n",
       "      <th>Speed</th>\n",
       "      <th>City</th>\n",
       "    </tr>\n",
       "  </thead>\n",
       "  <tbody>\n",
       "    <tr>\n",
       "      <th>0</th>\n",
       "      <td>12598</td>\n",
       "      <td>452</td>\n",
       "      <td>Kanpur</td>\n",
       "    </tr>\n",
       "    <tr>\n",
       "      <th>1</th>\n",
       "      <td>4520</td>\n",
       "      <td>652</td>\n",
       "      <td>Mirzapur</td>\n",
       "    </tr>\n",
       "    <tr>\n",
       "      <th>2</th>\n",
       "      <td>8752</td>\n",
       "      <td>320</td>\n",
       "      <td>Delh</td>\n",
       "    </tr>\n",
       "    <tr>\n",
       "      <th>3</th>\n",
       "      <td>9850</td>\n",
       "      <td>65</td>\n",
       "      <td>Juhi</td>\n",
       "    </tr>\n",
       "  </tbody>\n",
       "</table>\n",
       "</div>"
      ],
      "text/plain": [
       "   Train_Number  Speed      City\n",
       "0         12598    452    Kanpur\n",
       "1          4520    652  Mirzapur\n",
       "2          8752    320      Delh\n",
       "3          9850     65      Juhi"
      ]
     },
     "execution_count": 13,
     "metadata": {},
     "output_type": "execute_result"
    }
   ],
   "source": [
    "tarin_data"
   ]
  },
  {
   "cell_type": "code",
   "execution_count": 14,
   "id": "793fb418-aa3c-4b0b-849c-b5978626149a",
   "metadata": {},
   "outputs": [
    {
     "ename": "NameError",
     "evalue": "name 'train_data' is not defined",
     "output_type": "error",
     "traceback": [
      "\u001b[31m---------------------------------------------------------------------------\u001b[39m",
      "\u001b[31mNameError\u001b[39m                                 Traceback (most recent call last)",
      "\u001b[36mCell\u001b[39m\u001b[36m \u001b[39m\u001b[32mIn[14]\u001b[39m\u001b[32m, line 1\u001b[39m\n\u001b[32m----> \u001b[39m\u001b[32m1\u001b[39m \u001b[43mtrain_data\u001b[49m[Speed]\n",
      "\u001b[31mNameError\u001b[39m: name 'train_data' is not defined"
     ]
    }
   ],
   "source": [
    "train_data[Speed]"
   ]
  },
  {
   "cell_type": "code",
   "execution_count": null,
   "id": "d249ebbf-2e71-4403-8ba2-59c2a81b67ae",
   "metadata": {},
   "outputs": [],
   "source": [
    "train_data['speed']"
   ]
  },
  {
   "cell_type": "code",
   "execution_count": null,
   "id": "786c42aa-e76e-4b15-bfe4-ad0fa4867747",
   "metadata": {},
   "outputs": [],
   "source": [
    "tarin_data['speed']"
   ]
  },
  {
   "cell_type": "code",
   "execution_count": null,
   "id": "e1da0401-75f1-4023-998b-238c484f49b1",
   "metadata": {},
   "outputs": [],
   "source": [
    "tarin_data['Speed']"
   ]
  },
  {
   "cell_type": "code",
   "execution_count": null,
   "id": "186c5b04-b9fd-4783-82fd-8327b7c8cb7d",
   "metadata": {},
   "outputs": [],
   "source": [
    "tarin_data['Speed'][0] = 20"
   ]
  },
  {
   "cell_type": "code",
   "execution_count": null,
   "id": "1bc40aea-b7ba-4a0b-9b53-efc2272fd032",
   "metadata": {},
   "outputs": [],
   "source": [
    "tarin_data\n"
   ]
  },
  {
   "cell_type": "code",
   "execution_count": null,
   "id": "92ce9132-ced2-414a-9c59-a9027d034f6b",
   "metadata": {},
   "outputs": [],
   "source": [
    "tarin_data.to_csv('New_Train_data')"
   ]
  },
  {
   "cell_type": "code",
   "execution_count": null,
   "id": "e7d7c566-6154-46da-ab7b-2a8a9a9dbb3a",
   "metadata": {},
   "outputs": [],
   "source": [
    "tarin_data.to_csv('New_Train_data.csv')"
   ]
  },
  {
   "cell_type": "code",
   "execution_count": null,
   "id": "d47c8a42-b99f-4152-a534-e16887e05c48",
   "metadata": {},
   "outputs": [],
   "source": [
    "tarin_data.info()"
   ]
  },
  {
   "cell_type": "code",
   "execution_count": null,
   "id": "089ce797-21f9-4b45-be62-ce5cf6badc30",
   "metadata": {},
   "outputs": [],
   "source": [
    "tarin_data.DESCRIBE()"
   ]
  },
  {
   "cell_type": "code",
   "execution_count": null,
   "id": "81e6b4e5-f005-4a8d-9079-b78003811816",
   "metadata": {},
   "outputs": [],
   "source": [
    "high_speed = tarin_data[tarin_data['Speed']> 200]\n",
    "print(high_speed)"
   ]
  },
  {
   "cell_type": "code",
   "execution_count": null,
   "id": "f9c40214-e4f6-4f1d-860c-e1606732c0bb",
   "metadata": {},
   "outputs": [],
   "source": [
    "print(tarin_data.describe())"
   ]
  },
  {
   "cell_type": "raw",
   "id": "c1dee808-9d84-4606-a9bb-ef9f5a12a639",
   "metadata": {},
   "source": [
    "ser = pd.Series(np.random.rand(30))"
   ]
  },
  {
   "cell_type": "code",
   "execution_count": 3,
   "id": "b6441527-ab2b-4c9c-9d68-27e21c48adf4",
   "metadata": {},
   "outputs": [
    {
     "ename": "NameError",
     "evalue": "name 'ser' is not defined",
     "output_type": "error",
     "traceback": [
      "\u001b[31m---------------------------------------------------------------------------\u001b[39m",
      "\u001b[31mNameError\u001b[39m                                 Traceback (most recent call last)",
      "\u001b[36mCell\u001b[39m\u001b[36m \u001b[39m\u001b[32mIn[3]\u001b[39m\u001b[32m, line 1\u001b[39m\n\u001b[32m----> \u001b[39m\u001b[32m1\u001b[39m \u001b[43mser\u001b[49m\n",
      "\u001b[31mNameError\u001b[39m: name 'ser' is not defined"
     ]
    }
   ],
   "source": [
    "ser"
   ]
  },
  {
   "cell_type": "code",
   "execution_count": null,
   "id": "5a642262-076b-4e0f-81b7-25933318868d",
   "metadata": {},
   "outputs": [],
   "source": []
  }
 ],
 "metadata": {
  "kernelspec": {
   "display_name": "Python 3 (ipykernel)",
   "language": "python",
   "name": "python3"
  },
  "language_info": {
   "codemirror_mode": {
    "name": "ipython",
    "version": 3
   },
   "file_extension": ".py",
   "mimetype": "text/x-python",
   "name": "python",
   "nbconvert_exporter": "python",
   "pygments_lexer": "ipython3",
   "version": "3.11.9"
  }
 },
 "nbformat": 4,
 "nbformat_minor": 5
}
