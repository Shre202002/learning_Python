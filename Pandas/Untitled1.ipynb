{
 "cells": [
  {
   "cell_type": "code",
   "execution_count": 1,
   "id": "ff0997e7-c48e-4c83-8a04-de51a07db82b",
   "metadata": {},
   "outputs": [],
   "source": [
    "import numpy as np\n",
    "import pandas as pd"
   ]
  },
  {
   "cell_type": "code",
   "execution_count": 2,
   "id": "8b49ab9f-7a2f-4120-85b8-3cdc0610a4ea",
   "metadata": {},
   "outputs": [],
   "source": [
    "ser = pd.Series(np.random.rand(31))"
   ]
  },
  {
   "cell_type": "code",
   "execution_count": 3,
   "id": "4b61ed18-17f9-41a8-b8af-46e7b17acf39",
   "metadata": {},
   "outputs": [
    {
     "data": {
      "text/plain": [
       "pandas.core.series.Series"
      ]
     },
     "execution_count": 3,
     "metadata": {},
     "output_type": "execute_result"
    }
   ],
   "source": [
    "type(ser)"
   ]
  },
  {
   "cell_type": "code",
   "execution_count": 4,
   "id": "fb5fad1c-356d-4f3a-bd30-fc1d163889d5",
   "metadata": {},
   "outputs": [],
   "source": [
    "new_def = pd.DataFrame(np.random.rand(331,5), index = np.arange(331))"
   ]
  },
  {
   "cell_type": "code",
   "execution_count": 5,
   "id": "de7994d0-9058-47ab-8cc0-4661b3ad1d4f",
   "metadata": {},
   "outputs": [
    {
     "data": {
      "text/plain": [
       "pandas.core.frame.DataFrame"
      ]
     },
     "execution_count": 5,
     "metadata": {},
     "output_type": "execute_result"
    }
   ],
   "source": [
    "type(new_def)"
   ]
  },
  {
   "cell_type": "code",
   "execution_count": 6,
   "id": "4d513309-514f-4779-90ad-ed49e19fb376",
   "metadata": {},
   "outputs": [
    {
     "data": {
      "text/plain": [
       "0    float64\n",
       "1    float64\n",
       "2    float64\n",
       "3    float64\n",
       "4    float64\n",
       "dtype: object"
      ]
     },
     "execution_count": 6,
     "metadata": {},
     "output_type": "execute_result"
    }
   ],
   "source": [
    "new_def.dtypes"
   ]
  },
  {
   "cell_type": "code",
   "execution_count": 7,
   "id": "9695ef1c-2d5c-41d5-85d1-9db29a6200b0",
   "metadata": {},
   "outputs": [
    {
     "data": {
      "text/html": [
       "<div>\n",
       "<style scoped>\n",
       "    .dataframe tbody tr th:only-of-type {\n",
       "        vertical-align: middle;\n",
       "    }\n",
       "\n",
       "    .dataframe tbody tr th {\n",
       "        vertical-align: top;\n",
       "    }\n",
       "\n",
       "    .dataframe thead th {\n",
       "        text-align: right;\n",
       "    }\n",
       "</style>\n",
       "<table border=\"1\" class=\"dataframe\">\n",
       "  <thead>\n",
       "    <tr style=\"text-align: right;\">\n",
       "      <th></th>\n",
       "      <th>0</th>\n",
       "      <th>1</th>\n",
       "      <th>2</th>\n",
       "      <th>3</th>\n",
       "      <th>4</th>\n",
       "    </tr>\n",
       "  </thead>\n",
       "  <tbody>\n",
       "    <tr>\n",
       "      <th>count</th>\n",
       "      <td>331.000000</td>\n",
       "      <td>331.000000</td>\n",
       "      <td>331.000000</td>\n",
       "      <td>331.000000</td>\n",
       "      <td>331.000000</td>\n",
       "    </tr>\n",
       "    <tr>\n",
       "      <th>mean</th>\n",
       "      <td>0.505264</td>\n",
       "      <td>0.485586</td>\n",
       "      <td>0.498871</td>\n",
       "      <td>0.505823</td>\n",
       "      <td>0.513364</td>\n",
       "    </tr>\n",
       "    <tr>\n",
       "      <th>std</th>\n",
       "      <td>0.286429</td>\n",
       "      <td>0.292259</td>\n",
       "      <td>0.282231</td>\n",
       "      <td>0.299413</td>\n",
       "      <td>0.294333</td>\n",
       "    </tr>\n",
       "    <tr>\n",
       "      <th>min</th>\n",
       "      <td>0.005414</td>\n",
       "      <td>0.001427</td>\n",
       "      <td>0.005929</td>\n",
       "      <td>0.000345</td>\n",
       "      <td>0.007353</td>\n",
       "    </tr>\n",
       "    <tr>\n",
       "      <th>25%</th>\n",
       "      <td>0.253272</td>\n",
       "      <td>0.216587</td>\n",
       "      <td>0.251805</td>\n",
       "      <td>0.239807</td>\n",
       "      <td>0.252842</td>\n",
       "    </tr>\n",
       "    <tr>\n",
       "      <th>50%</th>\n",
       "      <td>0.522251</td>\n",
       "      <td>0.493906</td>\n",
       "      <td>0.521298</td>\n",
       "      <td>0.518291</td>\n",
       "      <td>0.495361</td>\n",
       "    </tr>\n",
       "    <tr>\n",
       "      <th>75%</th>\n",
       "      <td>0.753541</td>\n",
       "      <td>0.731499</td>\n",
       "      <td>0.711532</td>\n",
       "      <td>0.771289</td>\n",
       "      <td>0.798266</td>\n",
       "    </tr>\n",
       "    <tr>\n",
       "      <th>max</th>\n",
       "      <td>0.996936</td>\n",
       "      <td>0.999011</td>\n",
       "      <td>0.993969</td>\n",
       "      <td>0.999519</td>\n",
       "      <td>0.995085</td>\n",
       "    </tr>\n",
       "  </tbody>\n",
       "</table>\n",
       "</div>"
      ],
      "text/plain": [
       "                0           1           2           3           4\n",
       "count  331.000000  331.000000  331.000000  331.000000  331.000000\n",
       "mean     0.505264    0.485586    0.498871    0.505823    0.513364\n",
       "std      0.286429    0.292259    0.282231    0.299413    0.294333\n",
       "min      0.005414    0.001427    0.005929    0.000345    0.007353\n",
       "25%      0.253272    0.216587    0.251805    0.239807    0.252842\n",
       "50%      0.522251    0.493906    0.521298    0.518291    0.495361\n",
       "75%      0.753541    0.731499    0.711532    0.771289    0.798266\n",
       "max      0.996936    0.999011    0.993969    0.999519    0.995085"
      ]
     },
     "execution_count": 7,
     "metadata": {},
     "output_type": "execute_result"
    }
   ],
   "source": [
    "new_def.describe()"
   ]
  },
  {
   "cell_type": "code",
   "execution_count": 8,
   "id": "5e8a2281-a6f8-419e-96ea-5cee92c70448",
   "metadata": {},
   "outputs": [
    {
     "name": "stderr",
     "output_type": "stream",
     "text": [
      "C:\\Users\\Shre\\AppData\\Local\\Temp\\ipykernel_19884\\3815652062.py:1: FutureWarning: ChainedAssignmentError: behaviour will change in pandas 3.0!\n",
      "You are setting values through chained assignment. Currently this works in certain cases, but when using Copy-on-Write (which will become the default behaviour in pandas 3.0) this will never work to update the original DataFrame or Series, because the intermediate object on which we are setting values will behave as a copy.\n",
      "A typical example is when you are setting values in a column of a DataFrame, like:\n",
      "\n",
      "df[\"col\"][row_indexer] = value\n",
      "\n",
      "Use `df.loc[row_indexer, \"col\"] = values` instead, to perform the assignment in a single step and ensure this keeps updating the original `df`.\n",
      "\n",
      "See the caveats in the documentation: https://pandas.pydata.org/pandas-docs/stable/user_guide/indexing.html#returning-a-view-versus-a-copy\n",
      "\n",
      "  new_def[0][0] = 'Shre'\n",
      "C:\\Users\\Shre\\AppData\\Local\\Temp\\ipykernel_19884\\3815652062.py:1: FutureWarning: Setting an item of incompatible dtype is deprecated and will raise an error in a future version of pandas. Value 'Shre' has dtype incompatible with float64, please explicitly cast to a compatible dtype first.\n",
      "  new_def[0][0] = 'Shre'\n"
     ]
    }
   ],
   "source": [
    "new_def[0][0] = 'Shre'"
   ]
  },
  {
   "cell_type": "code",
   "execution_count": 9,
   "id": "4b1542de-d5b8-4dbe-aeba-f1baef5a870c",
   "metadata": {},
   "outputs": [
    {
     "data": {
      "text/html": [
       "<div>\n",
       "<style scoped>\n",
       "    .dataframe tbody tr th:only-of-type {\n",
       "        vertical-align: middle;\n",
       "    }\n",
       "\n",
       "    .dataframe tbody tr th {\n",
       "        vertical-align: top;\n",
       "    }\n",
       "\n",
       "    .dataframe thead th {\n",
       "        text-align: right;\n",
       "    }\n",
       "</style>\n",
       "<table border=\"1\" class=\"dataframe\">\n",
       "  <thead>\n",
       "    <tr style=\"text-align: right;\">\n",
       "      <th></th>\n",
       "      <th>0</th>\n",
       "      <th>1</th>\n",
       "      <th>2</th>\n",
       "      <th>3</th>\n",
       "      <th>4</th>\n",
       "    </tr>\n",
       "  </thead>\n",
       "  <tbody>\n",
       "    <tr>\n",
       "      <th>0</th>\n",
       "      <td>Shre</td>\n",
       "      <td>0.559690</td>\n",
       "      <td>0.157679</td>\n",
       "      <td>0.604920</td>\n",
       "      <td>0.112644</td>\n",
       "    </tr>\n",
       "    <tr>\n",
       "      <th>1</th>\n",
       "      <td>0.977775</td>\n",
       "      <td>0.944138</td>\n",
       "      <td>0.420820</td>\n",
       "      <td>0.591445</td>\n",
       "      <td>0.722683</td>\n",
       "    </tr>\n",
       "    <tr>\n",
       "      <th>2</th>\n",
       "      <td>0.523594</td>\n",
       "      <td>0.652764</td>\n",
       "      <td>0.974677</td>\n",
       "      <td>0.235861</td>\n",
       "      <td>0.655641</td>\n",
       "    </tr>\n",
       "    <tr>\n",
       "      <th>3</th>\n",
       "      <td>0.327271</td>\n",
       "      <td>0.253712</td>\n",
       "      <td>0.552220</td>\n",
       "      <td>0.000345</td>\n",
       "      <td>0.830556</td>\n",
       "    </tr>\n",
       "    <tr>\n",
       "      <th>4</th>\n",
       "      <td>0.238819</td>\n",
       "      <td>0.381729</td>\n",
       "      <td>0.248632</td>\n",
       "      <td>0.534604</td>\n",
       "      <td>0.586860</td>\n",
       "    </tr>\n",
       "  </tbody>\n",
       "</table>\n",
       "</div>"
      ],
      "text/plain": [
       "          0         1         2         3         4\n",
       "0      Shre  0.559690  0.157679  0.604920  0.112644\n",
       "1  0.977775  0.944138  0.420820  0.591445  0.722683\n",
       "2  0.523594  0.652764  0.974677  0.235861  0.655641\n",
       "3  0.327271  0.253712  0.552220  0.000345  0.830556\n",
       "4  0.238819  0.381729  0.248632  0.534604  0.586860"
      ]
     },
     "execution_count": 9,
     "metadata": {},
     "output_type": "execute_result"
    }
   ],
   "source": [
    "new_def.head()"
   ]
  },
  {
   "cell_type": "code",
   "execution_count": 10,
   "id": "13671307-a15f-48ab-a0c4-96e9011c7a66",
   "metadata": {},
   "outputs": [
    {
     "data": {
      "text/plain": [
       "0     object\n",
       "1    float64\n",
       "2    float64\n",
       "3    float64\n",
       "4    float64\n",
       "dtype: object"
      ]
     },
     "execution_count": 10,
     "metadata": {},
     "output_type": "execute_result"
    }
   ],
   "source": [
    "new_def.dtypes"
   ]
  },
  {
   "cell_type": "code",
   "execution_count": 11,
   "id": "21bb587d-10c3-40fe-b260-5cd3f1bbbdcb",
   "metadata": {},
   "outputs": [
    {
     "data": {
      "text/plain": [
       "Index([  0,   1,   2,   3,   4,   5,   6,   7,   8,   9,\n",
       "       ...\n",
       "       321, 322, 323, 324, 325, 326, 327, 328, 329, 330],\n",
       "      dtype='int64', length=331)"
      ]
     },
     "execution_count": 11,
     "metadata": {},
     "output_type": "execute_result"
    }
   ],
   "source": [
    "new_def.index"
   ]
  },
  {
   "cell_type": "code",
   "execution_count": 12,
   "id": "f1b3c2a8-3760-4855-80e6-f574a588b63e",
   "metadata": {},
   "outputs": [
    {
     "data": {
      "text/plain": [
       "RangeIndex(start=0, stop=5, step=1)"
      ]
     },
     "execution_count": 12,
     "metadata": {},
     "output_type": "execute_result"
    }
   ],
   "source": [
    "new_def.columns"
   ]
  },
  {
   "cell_type": "code",
   "execution_count": 13,
   "id": "d945ae29-46bc-4f25-866b-93fa7416d664",
   "metadata": {},
   "outputs": [
    {
     "data": {
      "text/plain": [
       "array([['Shre', 0.5596900789553996, 0.15767868316788602,\n",
       "        0.6049197604999965, 0.11264415802431504],\n",
       "       [0.977775466770218, 0.9441384949923044, 0.420819684695418,\n",
       "        0.5914450240551515, 0.722683317826331],\n",
       "       [0.5235940094854356, 0.6527636232150283, 0.9746774671920138,\n",
       "        0.23586058615091, 0.6556405322149661],\n",
       "       ...,\n",
       "       [0.43447102554951345, 0.30663847195250593, 0.2661831408528592,\n",
       "        0.12016125579732795, 0.2364387878457972],\n",
       "       [0.7968032525580829, 0.09985926823938829, 0.666342417089087,\n",
       "        0.6760891706463333, 0.20269328348845983],\n",
       "       [0.7125657868453047, 0.10597296138122747, 0.6564443691446877,\n",
       "        0.6888710896189962, 0.6156304874518378]],\n",
       "      shape=(331, 5), dtype=object)"
      ]
     },
     "execution_count": 13,
     "metadata": {},
     "output_type": "execute_result"
    }
   ],
   "source": [
    "new_def.to_numpy()"
   ]
  },
  {
   "cell_type": "code",
   "execution_count": 14,
   "id": "f9f3f3f8-502a-425d-bfc6-8feaa80fbb52",
   "metadata": {},
   "outputs": [],
   "source": [
    "new_def[0][0] = 3.548"
   ]
  },
  {
   "cell_type": "code",
   "execution_count": 15,
   "id": "a910304e-a635-4ca6-ac27-5ff749d84682",
   "metadata": {},
   "outputs": [
    {
     "data": {
      "text/plain": [
       "array([[3.548, 0.5596900789553996, 0.15767868316788602,\n",
       "        0.6049197604999965, 0.11264415802431504],\n",
       "       [0.977775466770218, 0.9441384949923044, 0.420819684695418,\n",
       "        0.5914450240551515, 0.722683317826331],\n",
       "       [0.5235940094854356, 0.6527636232150283, 0.9746774671920138,\n",
       "        0.23586058615091, 0.6556405322149661],\n",
       "       ...,\n",
       "       [0.43447102554951345, 0.30663847195250593, 0.2661831408528592,\n",
       "        0.12016125579732795, 0.2364387878457972],\n",
       "       [0.7968032525580829, 0.09985926823938829, 0.666342417089087,\n",
       "        0.6760891706463333, 0.20269328348845983],\n",
       "       [0.7125657868453047, 0.10597296138122747, 0.6564443691446877,\n",
       "        0.6888710896189962, 0.6156304874518378]],\n",
       "      shape=(331, 5), dtype=object)"
      ]
     },
     "execution_count": 15,
     "metadata": {},
     "output_type": "execute_result"
    }
   ],
   "source": [
    "new_def.to_numpy()"
   ]
  },
  {
   "cell_type": "code",
   "execution_count": 16,
   "id": "9ef5ca86-de6b-4eac-9166-6e5a9429441f",
   "metadata": {},
   "outputs": [
    {
     "data": {
      "text/html": [
       "<div>\n",
       "<style scoped>\n",
       "    .dataframe tbody tr th:only-of-type {\n",
       "        vertical-align: middle;\n",
       "    }\n",
       "\n",
       "    .dataframe tbody tr th {\n",
       "        vertical-align: top;\n",
       "    }\n",
       "\n",
       "    .dataframe thead th {\n",
       "        text-align: right;\n",
       "    }\n",
       "</style>\n",
       "<table border=\"1\" class=\"dataframe\">\n",
       "  <thead>\n",
       "    <tr style=\"text-align: right;\">\n",
       "      <th></th>\n",
       "      <th>0</th>\n",
       "      <th>1</th>\n",
       "      <th>2</th>\n",
       "      <th>3</th>\n",
       "      <th>4</th>\n",
       "      <th>5</th>\n",
       "      <th>6</th>\n",
       "      <th>7</th>\n",
       "      <th>8</th>\n",
       "      <th>9</th>\n",
       "      <th>...</th>\n",
       "      <th>321</th>\n",
       "      <th>322</th>\n",
       "      <th>323</th>\n",
       "      <th>324</th>\n",
       "      <th>325</th>\n",
       "      <th>326</th>\n",
       "      <th>327</th>\n",
       "      <th>328</th>\n",
       "      <th>329</th>\n",
       "      <th>330</th>\n",
       "    </tr>\n",
       "  </thead>\n",
       "  <tbody>\n",
       "    <tr>\n",
       "      <th>0</th>\n",
       "      <td>3.548</td>\n",
       "      <td>0.977775</td>\n",
       "      <td>0.523594</td>\n",
       "      <td>0.327271</td>\n",
       "      <td>0.238819</td>\n",
       "      <td>0.838961</td>\n",
       "      <td>0.477351</td>\n",
       "      <td>0.758232</td>\n",
       "      <td>0.833255</td>\n",
       "      <td>0.632214</td>\n",
       "      <td>...</td>\n",
       "      <td>0.581926</td>\n",
       "      <td>0.383311</td>\n",
       "      <td>0.047029</td>\n",
       "      <td>0.651003</td>\n",
       "      <td>0.503951</td>\n",
       "      <td>0.39747</td>\n",
       "      <td>0.762522</td>\n",
       "      <td>0.434471</td>\n",
       "      <td>0.796803</td>\n",
       "      <td>0.712566</td>\n",
       "    </tr>\n",
       "    <tr>\n",
       "      <th>1</th>\n",
       "      <td>0.55969</td>\n",
       "      <td>0.944138</td>\n",
       "      <td>0.652764</td>\n",
       "      <td>0.253712</td>\n",
       "      <td>0.381729</td>\n",
       "      <td>0.101433</td>\n",
       "      <td>0.218002</td>\n",
       "      <td>0.88874</td>\n",
       "      <td>0.669612</td>\n",
       "      <td>0.995779</td>\n",
       "      <td>...</td>\n",
       "      <td>0.791145</td>\n",
       "      <td>0.982079</td>\n",
       "      <td>0.337628</td>\n",
       "      <td>0.065146</td>\n",
       "      <td>0.400227</td>\n",
       "      <td>0.377596</td>\n",
       "      <td>0.727337</td>\n",
       "      <td>0.306638</td>\n",
       "      <td>0.099859</td>\n",
       "      <td>0.105973</td>\n",
       "    </tr>\n",
       "    <tr>\n",
       "      <th>2</th>\n",
       "      <td>0.157679</td>\n",
       "      <td>0.42082</td>\n",
       "      <td>0.974677</td>\n",
       "      <td>0.55222</td>\n",
       "      <td>0.248632</td>\n",
       "      <td>0.956421</td>\n",
       "      <td>0.442347</td>\n",
       "      <td>0.266454</td>\n",
       "      <td>0.099618</td>\n",
       "      <td>0.409527</td>\n",
       "      <td>...</td>\n",
       "      <td>0.744923</td>\n",
       "      <td>0.208104</td>\n",
       "      <td>0.345237</td>\n",
       "      <td>0.406138</td>\n",
       "      <td>0.436731</td>\n",
       "      <td>0.54773</td>\n",
       "      <td>0.371933</td>\n",
       "      <td>0.266183</td>\n",
       "      <td>0.666342</td>\n",
       "      <td>0.656444</td>\n",
       "    </tr>\n",
       "    <tr>\n",
       "      <th>3</th>\n",
       "      <td>0.60492</td>\n",
       "      <td>0.591445</td>\n",
       "      <td>0.235861</td>\n",
       "      <td>0.000345</td>\n",
       "      <td>0.534604</td>\n",
       "      <td>0.790577</td>\n",
       "      <td>0.232175</td>\n",
       "      <td>0.329267</td>\n",
       "      <td>0.474344</td>\n",
       "      <td>0.576621</td>\n",
       "      <td>...</td>\n",
       "      <td>0.289324</td>\n",
       "      <td>0.49702</td>\n",
       "      <td>0.624532</td>\n",
       "      <td>0.131334</td>\n",
       "      <td>0.80252</td>\n",
       "      <td>0.325573</td>\n",
       "      <td>0.796518</td>\n",
       "      <td>0.120161</td>\n",
       "      <td>0.676089</td>\n",
       "      <td>0.688871</td>\n",
       "    </tr>\n",
       "    <tr>\n",
       "      <th>4</th>\n",
       "      <td>0.112644</td>\n",
       "      <td>0.722683</td>\n",
       "      <td>0.655641</td>\n",
       "      <td>0.830556</td>\n",
       "      <td>0.58686</td>\n",
       "      <td>0.369359</td>\n",
       "      <td>0.05063</td>\n",
       "      <td>0.675649</td>\n",
       "      <td>0.813975</td>\n",
       "      <td>0.395485</td>\n",
       "      <td>...</td>\n",
       "      <td>0.68285</td>\n",
       "      <td>0.715598</td>\n",
       "      <td>0.955234</td>\n",
       "      <td>0.253725</td>\n",
       "      <td>0.185016</td>\n",
       "      <td>0.091854</td>\n",
       "      <td>0.112091</td>\n",
       "      <td>0.236439</td>\n",
       "      <td>0.202693</td>\n",
       "      <td>0.61563</td>\n",
       "    </tr>\n",
       "  </tbody>\n",
       "</table>\n",
       "<p>5 rows × 331 columns</p>\n",
       "</div>"
      ],
      "text/plain": [
       "        0         1         2         3         4         5         6    \\\n",
       "0     3.548  0.977775  0.523594  0.327271  0.238819  0.838961  0.477351   \n",
       "1   0.55969  0.944138  0.652764  0.253712  0.381729  0.101433  0.218002   \n",
       "2  0.157679   0.42082  0.974677   0.55222  0.248632  0.956421  0.442347   \n",
       "3   0.60492  0.591445  0.235861  0.000345  0.534604  0.790577  0.232175   \n",
       "4  0.112644  0.722683  0.655641  0.830556   0.58686  0.369359   0.05063   \n",
       "\n",
       "        7         8         9    ...       321       322       323       324  \\\n",
       "0  0.758232  0.833255  0.632214  ...  0.581926  0.383311  0.047029  0.651003   \n",
       "1   0.88874  0.669612  0.995779  ...  0.791145  0.982079  0.337628  0.065146   \n",
       "2  0.266454  0.099618  0.409527  ...  0.744923  0.208104  0.345237  0.406138   \n",
       "3  0.329267  0.474344  0.576621  ...  0.289324   0.49702  0.624532  0.131334   \n",
       "4  0.675649  0.813975  0.395485  ...   0.68285  0.715598  0.955234  0.253725   \n",
       "\n",
       "        325       326       327       328       329       330  \n",
       "0  0.503951   0.39747  0.762522  0.434471  0.796803  0.712566  \n",
       "1  0.400227  0.377596  0.727337  0.306638  0.099859  0.105973  \n",
       "2  0.436731   0.54773  0.371933  0.266183  0.666342  0.656444  \n",
       "3   0.80252  0.325573  0.796518  0.120161  0.676089  0.688871  \n",
       "4  0.185016  0.091854  0.112091  0.236439  0.202693   0.61563  \n",
       "\n",
       "[5 rows x 331 columns]"
      ]
     },
     "execution_count": 16,
     "metadata": {},
     "output_type": "execute_result"
    }
   ],
   "source": [
    "new_def.T"
   ]
  },
  {
   "cell_type": "code",
   "execution_count": 17,
   "id": "197a865e-b396-420e-89ba-14d60661a35e",
   "metadata": {},
   "outputs": [
    {
     "data": {
      "text/html": [
       "<div>\n",
       "<style scoped>\n",
       "    .dataframe tbody tr th:only-of-type {\n",
       "        vertical-align: middle;\n",
       "    }\n",
       "\n",
       "    .dataframe tbody tr th {\n",
       "        vertical-align: top;\n",
       "    }\n",
       "\n",
       "    .dataframe thead th {\n",
       "        text-align: right;\n",
       "    }\n",
       "</style>\n",
       "<table border=\"1\" class=\"dataframe\">\n",
       "  <thead>\n",
       "    <tr style=\"text-align: right;\">\n",
       "      <th></th>\n",
       "      <th>0</th>\n",
       "      <th>1</th>\n",
       "      <th>2</th>\n",
       "      <th>3</th>\n",
       "      <th>4</th>\n",
       "    </tr>\n",
       "  </thead>\n",
       "  <tbody>\n",
       "    <tr>\n",
       "      <th>0</th>\n",
       "      <td>3.548</td>\n",
       "      <td>0.559690</td>\n",
       "      <td>0.157679</td>\n",
       "      <td>0.604920</td>\n",
       "      <td>0.112644</td>\n",
       "    </tr>\n",
       "    <tr>\n",
       "      <th>1</th>\n",
       "      <td>0.977775</td>\n",
       "      <td>0.944138</td>\n",
       "      <td>0.420820</td>\n",
       "      <td>0.591445</td>\n",
       "      <td>0.722683</td>\n",
       "    </tr>\n",
       "    <tr>\n",
       "      <th>2</th>\n",
       "      <td>0.523594</td>\n",
       "      <td>0.652764</td>\n",
       "      <td>0.974677</td>\n",
       "      <td>0.235861</td>\n",
       "      <td>0.655641</td>\n",
       "    </tr>\n",
       "    <tr>\n",
       "      <th>3</th>\n",
       "      <td>0.327271</td>\n",
       "      <td>0.253712</td>\n",
       "      <td>0.552220</td>\n",
       "      <td>0.000345</td>\n",
       "      <td>0.830556</td>\n",
       "    </tr>\n",
       "    <tr>\n",
       "      <th>4</th>\n",
       "      <td>0.238819</td>\n",
       "      <td>0.381729</td>\n",
       "      <td>0.248632</td>\n",
       "      <td>0.534604</td>\n",
       "      <td>0.586860</td>\n",
       "    </tr>\n",
       "  </tbody>\n",
       "</table>\n",
       "</div>"
      ],
      "text/plain": [
       "          0         1         2         3         4\n",
       "0     3.548  0.559690  0.157679  0.604920  0.112644\n",
       "1  0.977775  0.944138  0.420820  0.591445  0.722683\n",
       "2  0.523594  0.652764  0.974677  0.235861  0.655641\n",
       "3  0.327271  0.253712  0.552220  0.000345  0.830556\n",
       "4  0.238819  0.381729  0.248632  0.534604  0.586860"
      ]
     },
     "execution_count": 17,
     "metadata": {},
     "output_type": "execute_result"
    }
   ],
   "source": [
    "new_def.head()"
   ]
  },
  {
   "cell_type": "code",
   "execution_count": 18,
   "id": "407ebad1-72d6-448e-85db-54933bbb17c1",
   "metadata": {},
   "outputs": [
    {
     "data": {
      "text/html": [
       "<div>\n",
       "<style scoped>\n",
       "    .dataframe tbody tr th:only-of-type {\n",
       "        vertical-align: middle;\n",
       "    }\n",
       "\n",
       "    .dataframe tbody tr th {\n",
       "        vertical-align: top;\n",
       "    }\n",
       "\n",
       "    .dataframe thead th {\n",
       "        text-align: right;\n",
       "    }\n",
       "</style>\n",
       "<table border=\"1\" class=\"dataframe\">\n",
       "  <thead>\n",
       "    <tr style=\"text-align: right;\">\n",
       "      <th></th>\n",
       "      <th>4</th>\n",
       "      <th>3</th>\n",
       "      <th>2</th>\n",
       "      <th>1</th>\n",
       "      <th>0</th>\n",
       "    </tr>\n",
       "  </thead>\n",
       "  <tbody>\n",
       "    <tr>\n",
       "      <th>0</th>\n",
       "      <td>0.112644</td>\n",
       "      <td>0.604920</td>\n",
       "      <td>0.157679</td>\n",
       "      <td>0.559690</td>\n",
       "      <td>3.548</td>\n",
       "    </tr>\n",
       "    <tr>\n",
       "      <th>1</th>\n",
       "      <td>0.722683</td>\n",
       "      <td>0.591445</td>\n",
       "      <td>0.420820</td>\n",
       "      <td>0.944138</td>\n",
       "      <td>0.977775</td>\n",
       "    </tr>\n",
       "    <tr>\n",
       "      <th>2</th>\n",
       "      <td>0.655641</td>\n",
       "      <td>0.235861</td>\n",
       "      <td>0.974677</td>\n",
       "      <td>0.652764</td>\n",
       "      <td>0.523594</td>\n",
       "    </tr>\n",
       "    <tr>\n",
       "      <th>3</th>\n",
       "      <td>0.830556</td>\n",
       "      <td>0.000345</td>\n",
       "      <td>0.552220</td>\n",
       "      <td>0.253712</td>\n",
       "      <td>0.327271</td>\n",
       "    </tr>\n",
       "    <tr>\n",
       "      <th>4</th>\n",
       "      <td>0.586860</td>\n",
       "      <td>0.534604</td>\n",
       "      <td>0.248632</td>\n",
       "      <td>0.381729</td>\n",
       "      <td>0.238819</td>\n",
       "    </tr>\n",
       "    <tr>\n",
       "      <th>...</th>\n",
       "      <td>...</td>\n",
       "      <td>...</td>\n",
       "      <td>...</td>\n",
       "      <td>...</td>\n",
       "      <td>...</td>\n",
       "    </tr>\n",
       "    <tr>\n",
       "      <th>326</th>\n",
       "      <td>0.091854</td>\n",
       "      <td>0.325573</td>\n",
       "      <td>0.547730</td>\n",
       "      <td>0.377596</td>\n",
       "      <td>0.39747</td>\n",
       "    </tr>\n",
       "    <tr>\n",
       "      <th>327</th>\n",
       "      <td>0.112091</td>\n",
       "      <td>0.796518</td>\n",
       "      <td>0.371933</td>\n",
       "      <td>0.727337</td>\n",
       "      <td>0.762522</td>\n",
       "    </tr>\n",
       "    <tr>\n",
       "      <th>328</th>\n",
       "      <td>0.236439</td>\n",
       "      <td>0.120161</td>\n",
       "      <td>0.266183</td>\n",
       "      <td>0.306638</td>\n",
       "      <td>0.434471</td>\n",
       "    </tr>\n",
       "    <tr>\n",
       "      <th>329</th>\n",
       "      <td>0.202693</td>\n",
       "      <td>0.676089</td>\n",
       "      <td>0.666342</td>\n",
       "      <td>0.099859</td>\n",
       "      <td>0.796803</td>\n",
       "    </tr>\n",
       "    <tr>\n",
       "      <th>330</th>\n",
       "      <td>0.615630</td>\n",
       "      <td>0.688871</td>\n",
       "      <td>0.656444</td>\n",
       "      <td>0.105973</td>\n",
       "      <td>0.712566</td>\n",
       "    </tr>\n",
       "  </tbody>\n",
       "</table>\n",
       "<p>331 rows × 5 columns</p>\n",
       "</div>"
      ],
      "text/plain": [
       "            4         3         2         1         0\n",
       "0    0.112644  0.604920  0.157679  0.559690     3.548\n",
       "1    0.722683  0.591445  0.420820  0.944138  0.977775\n",
       "2    0.655641  0.235861  0.974677  0.652764  0.523594\n",
       "3    0.830556  0.000345  0.552220  0.253712  0.327271\n",
       "4    0.586860  0.534604  0.248632  0.381729  0.238819\n",
       "..        ...       ...       ...       ...       ...\n",
       "326  0.091854  0.325573  0.547730  0.377596   0.39747\n",
       "327  0.112091  0.796518  0.371933  0.727337  0.762522\n",
       "328  0.236439  0.120161  0.266183  0.306638  0.434471\n",
       "329  0.202693  0.676089  0.666342  0.099859  0.796803\n",
       "330  0.615630  0.688871  0.656444  0.105973  0.712566\n",
       "\n",
       "[331 rows x 5 columns]"
      ]
     },
     "execution_count": 18,
     "metadata": {},
     "output_type": "execute_result"
    }
   ],
   "source": [
    "new_def.sort_index(axis = 1, ascending = False)"
   ]
  },
  {
   "cell_type": "code",
   "execution_count": 19,
   "id": "0cf8528a-1ea6-468a-a45d-f16648d9b790",
   "metadata": {},
   "outputs": [
    {
     "data": {
      "text/html": [
       "<div>\n",
       "<style scoped>\n",
       "    .dataframe tbody tr th:only-of-type {\n",
       "        vertical-align: middle;\n",
       "    }\n",
       "\n",
       "    .dataframe tbody tr th {\n",
       "        vertical-align: top;\n",
       "    }\n",
       "\n",
       "    .dataframe thead th {\n",
       "        text-align: right;\n",
       "    }\n",
       "</style>\n",
       "<table border=\"1\" class=\"dataframe\">\n",
       "  <thead>\n",
       "    <tr style=\"text-align: right;\">\n",
       "      <th></th>\n",
       "      <th>0</th>\n",
       "      <th>1</th>\n",
       "      <th>2</th>\n",
       "      <th>3</th>\n",
       "      <th>4</th>\n",
       "    </tr>\n",
       "  </thead>\n",
       "  <tbody>\n",
       "    <tr>\n",
       "      <th>0</th>\n",
       "      <td>3.548</td>\n",
       "      <td>0.559690</td>\n",
       "      <td>0.157679</td>\n",
       "      <td>0.604920</td>\n",
       "      <td>0.112644</td>\n",
       "    </tr>\n",
       "    <tr>\n",
       "      <th>1</th>\n",
       "      <td>0.977775</td>\n",
       "      <td>0.944138</td>\n",
       "      <td>0.420820</td>\n",
       "      <td>0.591445</td>\n",
       "      <td>0.722683</td>\n",
       "    </tr>\n",
       "    <tr>\n",
       "      <th>2</th>\n",
       "      <td>0.523594</td>\n",
       "      <td>0.652764</td>\n",
       "      <td>0.974677</td>\n",
       "      <td>0.235861</td>\n",
       "      <td>0.655641</td>\n",
       "    </tr>\n",
       "    <tr>\n",
       "      <th>3</th>\n",
       "      <td>0.327271</td>\n",
       "      <td>0.253712</td>\n",
       "      <td>0.552220</td>\n",
       "      <td>0.000345</td>\n",
       "      <td>0.830556</td>\n",
       "    </tr>\n",
       "    <tr>\n",
       "      <th>4</th>\n",
       "      <td>0.238819</td>\n",
       "      <td>0.381729</td>\n",
       "      <td>0.248632</td>\n",
       "      <td>0.534604</td>\n",
       "      <td>0.586860</td>\n",
       "    </tr>\n",
       "  </tbody>\n",
       "</table>\n",
       "</div>"
      ],
      "text/plain": [
       "          0         1         2         3         4\n",
       "0     3.548  0.559690  0.157679  0.604920  0.112644\n",
       "1  0.977775  0.944138  0.420820  0.591445  0.722683\n",
       "2  0.523594  0.652764  0.974677  0.235861  0.655641\n",
       "3  0.327271  0.253712  0.552220  0.000345  0.830556\n",
       "4  0.238819  0.381729  0.248632  0.534604  0.586860"
      ]
     },
     "execution_count": 19,
     "metadata": {},
     "output_type": "execute_result"
    }
   ],
   "source": [
    "new_def.head()"
   ]
  },
  {
   "cell_type": "code",
   "execution_count": 20,
   "id": "d9b1c5ab-3420-41ad-9ca6-aa964f4c97c3",
   "metadata": {},
   "outputs": [
    {
     "data": {
      "text/plain": [
       "0         3.548\n",
       "1      0.977775\n",
       "2      0.523594\n",
       "3      0.327271\n",
       "4      0.238819\n",
       "         ...   \n",
       "326     0.39747\n",
       "327    0.762522\n",
       "328    0.434471\n",
       "329    0.796803\n",
       "330    0.712566\n",
       "Name: 0, Length: 331, dtype: object"
      ]
     },
     "execution_count": 20,
     "metadata": {},
     "output_type": "execute_result"
    }
   ],
   "source": [
    "new_def[0]"
   ]
  },
  {
   "cell_type": "code",
   "execution_count": 21,
   "id": "13ff558e-caae-4ba5-8312-4376ca3c8bd8",
   "metadata": {},
   "outputs": [
    {
     "data": {
      "text/plain": [
       "pandas.core.series.Series"
      ]
     },
     "execution_count": 21,
     "metadata": {},
     "output_type": "execute_result"
    }
   ],
   "source": [
    "type(new_def[0])"
   ]
  },
  {
   "cell_type": "code",
   "execution_count": 22,
   "id": "2a77202e-c0cc-4c2d-ad52-650b68fe9b3d",
   "metadata": {},
   "outputs": [
    {
     "ename": "SyntaxError",
     "evalue": "invalid syntax (2198108035.py, line 1)",
     "output_type": "error",
     "traceback": [
      "  \u001b[36mCell\u001b[39m\u001b[36m \u001b[39m\u001b[32mIn[22]\u001b[39m\u001b[32m, line 1\u001b[39m\n\u001b[31m    \u001b[39m\u001b[31mnew_def_2 = new_def  // Creating New VIEW OF new_def, which is new_def_2. It will change the orignal value of new_def, when new_def_2 is changed !.\u001b[39m\n                                     ^\n\u001b[31mSyntaxError\u001b[39m\u001b[31m:\u001b[39m invalid syntax\n"
     ]
    }
   ],
   "source": [
    "new_def_2 = new_def  // Creating New VIEW OF new_def, which is new_def_2. It will change the orignal value of new_def, when new_def_2 is changed !.\n",
    "// it is not copy of new_def"
   ]
  },
  {
   "cell_type": "code",
   "execution_count": null,
   "id": "fc84901a-c8e3-40b9-bea8-6a4e412be54e",
   "metadata": {},
   "outputs": [],
   "source": [
    "new_def_2[0][0] = 0.6969"
   ]
  },
  {
   "cell_type": "code",
   "execution_count": null,
   "id": "7d5211c0-01bf-449a-b5d3-d4ec3d234374",
   "metadata": {},
   "outputs": [],
   "source": [
    "new_def.head()"
   ]
  },
  {
   "cell_type": "code",
   "execution_count": null,
   "id": "e9178382-9fbb-4e12-b16f-ecddcada8788",
   "metadata": {},
   "outputs": [],
   "source": [
    "new_def_3 = new_def.copy()"
   ]
  },
  {
   "cell_type": "code",
   "execution_count": null,
   "id": "a0ef1487-6a93-412c-8a25-1f5575fad691",
   "metadata": {},
   "outputs": [],
   "source": [
    "new_def_3[0][0] = 0.0000"
   ]
  },
  {
   "cell_type": "code",
   "execution_count": null,
   "id": "d2cd6892-f844-4203-8db7-f6132923c9d4",
   "metadata": {},
   "outputs": [],
   "source": [
    "new_def"
   ]
  },
  {
   "cell_type": "code",
   "execution_count": null,
   "id": "ff4789e1-9bfa-4b17-a5d3-d8d3a7c88fad",
   "metadata": {},
   "outputs": [],
   "source": [
    "new_def_3"
   ]
  },
  {
   "cell_type": "code",
   "execution_count": null,
   "id": "f1346aae-5664-445f-be1c-88ac1ea20d21",
   "metadata": {},
   "outputs": [],
   "source": [
    "new_def.loc[0,0] = 0.0000"
   ]
  },
  {
   "cell_type": "code",
   "execution_count": null,
   "id": "c88eee34-7f08-409b-be67-8e7e99ea4a98",
   "metadata": {},
   "outputs": [],
   "source": [
    "new_def.head()"
   ]
  },
  {
   "cell_type": "code",
   "execution_count": null,
   "id": "dbb6f28b-dbb1-4c5c-bcd1-bfd9497edf8a",
   "metadata": {},
   "outputs": [],
   "source": [
    "new_def.columns= list(\"ABCDE\")"
   ]
  },
  {
   "cell_type": "code",
   "execution_count": null,
   "id": "229082f6-6ea8-4c0b-a79c-ce6ccb597d0b",
   "metadata": {},
   "outputs": [],
   "source": [
    "new_def.head(2)"
   ]
  },
  {
   "cell_type": "code",
   "execution_count": null,
   "id": "493065d4-99e6-4a14-a6d1-524a840f2e83",
   "metadata": {},
   "outputs": [],
   "source": [
    "new_def.loc[0,0] = 969696"
   ]
  },
  {
   "cell_type": "code",
   "execution_count": null,
   "id": "3cee6203-1c65-47f8-a3d0-8af113c0303a",
   "metadata": {},
   "outputs": [],
   "source": [
    "new_def.head(2)"
   ]
  },
  {
   "cell_type": "code",
   "execution_count": null,
   "id": "c93a04ab-6055-40cc-8e20-7d856057ac07",
   "metadata": {},
   "outputs": [],
   "source": [
    "new_def.loc[0,'A'] = 6969"
   ]
  },
  {
   "cell_type": "code",
   "execution_count": null,
   "id": "75d9e9be-336b-4e99-bbb6-7104b02adcb1",
   "metadata": {},
   "outputs": [],
   "source": [
    "new_def.head()"
   ]
  },
  {
   "cell_type": "code",
   "execution_count": null,
   "id": "47c90b94-8f1d-40da-bdc3-baa98b45a730",
   "metadata": {},
   "outputs": [],
   "source": [
    "new_def.drop(0,axis =1)"
   ]
  },
  {
   "cell_type": "code",
   "execution_count": null,
   "id": "5e9d3800-111a-49ab-a057-df11b98cdd08",
   "metadata": {},
   "outputs": [],
   "source": [
    "new_def.drop('A', axis =1)  // does not remove from  the Orignal Data Fram always return the copy after applying it to data set "
   ]
  },
  {
   "cell_type": "code",
   "execution_count": null,
   "id": "7d4f9716-79f9-4390-87d9-f2760ba15d7c",
   "metadata": {},
   "outputs": [],
   "source": [
    "new_def.loc[[1,2],['A','D']]"
   ]
  },
  {
   "cell_type": "code",
   "execution_count": null,
   "id": "42c93189-f9c2-4c5b-ba02-1aa244ce8200",
   "metadata": {},
   "outputs": [],
   "source": [
    "new_def.loc[:,['A','D']]"
   ]
  },
  {
   "cell_type": "code",
   "execution_count": null,
   "id": "7f02205e-a692-4eb3-b5af-6b27fe7c984b",
   "metadata": {},
   "outputs": [],
   "source": [
    "new_def.loc[[1,2],:]"
   ]
  },
  {
   "cell_type": "code",
   "execution_count": null,
   "id": "9e928687-7d2f-4bd2-b6bc-5d2870baec60",
   "metadata": {},
   "outputs": [],
   "source": [
    "new_def.loc[(new_def['A']<0.4) & (new_def['C']>0.5)]"
   ]
  },
  {
   "cell_type": "code",
   "execution_count": null,
   "id": "72a6faa7-8c83-4929-872e-08fb1b5c720c",
   "metadata": {},
   "outputs": [],
   "source": [
    "new_def.iloc[0,4]"
   ]
  },
  {
   "cell_type": "code",
   "execution_count": null,
   "id": "efa9dc9c-6c48-41c8-8955-3329fc1a90ed",
   "metadata": {},
   "outputs": [],
   "source": [
    "new_def.head()"
   ]
  },
  {
   "cell_type": "code",
   "execution_count": null,
   "id": "01009f90-8319-4462-bd91-4675ab4f89a2",
   "metadata": {},
   "outputs": [],
   "source": [
    "new_def = new_def.drop(0, axis =1)"
   ]
  },
  {
   "cell_type": "code",
   "execution_count": null,
   "id": "df5b45cb-3774-4566-990d-dbbce8ce5298",
   "metadata": {},
   "outputs": [],
   "source": [
    "new_def.head(5)"
   ]
  },
  {
   "cell_type": "code",
   "execution_count": null,
   "id": "0dd92d31-6a4f-4f2e-94b4-6711482a438e",
   "metadata": {},
   "outputs": [],
   "source": [
    "new_def.drop('E', axis =1, inplace = True)  // Add the chnages to Orignal data Frame "
   ]
  },
  {
   "cell_type": "code",
   "execution_count": null,
   "id": "9ef610c5-7551-48d3-bafc-da59eccb96c3",
   "metadata": {},
   "outputs": [],
   "source": [
    "new_def.head(5)"
   ]
  },
  {
   "cell_type": "code",
   "execution_count": null,
   "id": "a7ad7725-53d0-4f69-b292-08d6cb1ad520",
   "metadata": {},
   "outputs": [],
   "source": [
    "new_def.drop([0,5,3], axis =0, inplace = True)  // remove the columns from the Data frame axis = 0 for the column "
   ]
  },
  {
   "cell_type": "code",
   "execution_count": null,
   "id": "372a4f15-1dae-40c6-8bcb-9058ae4a1ec5",
   "metadata": {},
   "outputs": [],
   "source": [
    "new_def.head(5)"
   ]
  },
  {
   "cell_type": "code",
   "execution_count": null,
   "id": "91b9cc3d-5de1-49a0-836f-f9f21554e903",
   "metadata": {},
   "outputs": [],
   "source": [
    "new_def.reset_index(drop = True, inplace = True )"
   ]
  },
  {
   "cell_type": "code",
   "execution_count": null,
   "id": "5e46cbe9-ae47-40cc-b3a5-7506ed98f446",
   "metadata": {},
   "outputs": [],
   "source": [
    "new_def.loc[:, ['A']]= 20"
   ]
  },
  {
   "cell_type": "code",
   "execution_count": null,
   "id": "a0feb832-8900-4b0e-8dd2-3c725d49ef8a",
   "metadata": {},
   "outputs": [],
   "source": [
    "new_def.head()"
   ]
  },
  {
   "cell_type": "code",
   "execution_count": null,
   "id": "83ba9e23-02ee-4972-8eea-84740584f294",
   "metadata": {},
   "outputs": [],
   "source": [
    "new_def.iloc[:, [2]]= 21"
   ]
  },
  {
   "cell_type": "code",
   "execution_count": null,
   "id": "a60e7ac6-93ad-4cb6-97b5-9ab9744e2b9e",
   "metadata": {},
   "outputs": [],
   "source": [
    "new_def.head()"
   ]
  },
  {
   "cell_type": "code",
   "execution_count": 23,
   "id": "1d987d52-1626-43d7-af41-46eff6822a95",
   "metadata": {},
   "outputs": [
    {
     "name": "stdout",
     "output_type": "stream",
     "text": [
      "{'name': 'Shre', 'age': 23, 'city': 'Delhi'}\n",
      "<class 'dict'>\n",
      "3\n",
      "Shre\n",
      "23\n"
     ]
    }
   ],
   "source": [
    "newdict = dict(name= 'Shre', age=23, city='Delhi')\n",
    "print(newdict)\n",
    "print(type(newdict))\n",
    "print(len(newdict)) \n",
    "print(newdict['name'])\n",
    "print(newdict['age'])"
   ]
  },
  {
   "cell_type": "code",
   "execution_count": null,
   "id": "e2552e74-f55a-4373-bbf3-d17a5044000c",
   "metadata": {},
   "outputs": [],
   "source": []
  }
 ],
 "metadata": {
  "kernelspec": {
   "display_name": "Python 3 (ipykernel)",
   "language": "python",
   "name": "python3"
  },
  "language_info": {
   "codemirror_mode": {
    "name": "ipython",
    "version": 3
   },
   "file_extension": ".py",
   "mimetype": "text/x-python",
   "name": "python",
   "nbconvert_exporter": "python",
   "pygments_lexer": "ipython3",
   "version": "3.11.9"
  }
 },
 "nbformat": 4,
 "nbformat_minor": 5
}
